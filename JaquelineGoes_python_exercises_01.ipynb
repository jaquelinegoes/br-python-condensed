{
  "nbformat": 4,
  "nbformat_minor": 0,
  "metadata": {
    "colab": {
      "name": "JaquelineGoes_python_exercises_01.ipynb",
      "provenance": [],
      "include_colab_link": true
    },
    "kernelspec": {
      "name": "python3",
      "display_name": "Python 3"
    }
  },
  "cells": [
    {
      "cell_type": "markdown",
      "metadata": {
        "id": "view-in-github",
        "colab_type": "text"
      },
      "source": [
        "<a href=\"https://colab.research.google.com/github/jaquelinegoes/br-python-condensed/blob/main/JaquelineGoes_python_exercises_01.ipynb\" target=\"_parent\"><img src=\"https://colab.research.google.com/assets/colab-badge.svg\" alt=\"Open In Colab\"/></a>"
      ]
    },
    {
      "cell_type": "markdown",
      "metadata": {
        "id": "8YqaSZgXYJ5g"
      },
      "source": [
        "![](https://i.imgur.com/YX6UATs.png)\n"
      ]
    },
    {
      "cell_type": "markdown",
      "metadata": {
        "id": "hhUVzDipaGb9"
      },
      "source": [
        "### **Exercícios de Python - 1** \n",
        "\n",
        "\n",
        "\n"
      ]
    },
    {
      "cell_type": "markdown",
      "metadata": {
        "id": "qMGp-h8OaGqr"
      },
      "source": [
        "1 - Faça um programa, com uma função que necessite de três argumentos, e que forneça a soma desses três argumentos."
      ]
    },
    {
      "cell_type": "code",
      "metadata": {
        "id": "kTg-D89NdCld"
      },
      "source": [
        "def soma(a,b,c):\n",
        "  soma = a+b+c\n",
        "  return soma"
      ],
      "execution_count": null,
      "outputs": []
    },
    {
      "cell_type": "code",
      "metadata": {
        "colab": {
          "base_uri": "https://localhost:8080/"
        },
        "id": "w35F2mZkr25w",
        "outputId": "893760a4-d5d3-49b1-8a07-4264a5f39047"
      },
      "source": [
        "soma(3,6,9)"
      ],
      "execution_count": null,
      "outputs": [
        {
          "output_type": "execute_result",
          "data": {
            "text/plain": [
              "18"
            ]
          },
          "metadata": {
            "tags": []
          },
          "execution_count": 19
        }
      ]
    },
    {
      "cell_type": "code",
      "metadata": {
        "id": "ef-g1aE-sGif"
      },
      "source": [
        "def exercicio1():\n",
        "  a = 1\n",
        "  b = 2\n",
        "  c = 3\n",
        "  soma = a+b+c\n",
        "  return soma"
      ],
      "execution_count": null,
      "outputs": []
    },
    {
      "cell_type": "code",
      "metadata": {
        "colab": {
          "base_uri": "https://localhost:8080/"
        },
        "id": "y64uXwEbsJ2r",
        "outputId": "1de82c83-6312-44f4-cd0d-336a3b42e35e"
      },
      "source": [
        "exercicio1()"
      ],
      "execution_count": null,
      "outputs": [
        {
          "output_type": "execute_result",
          "data": {
            "text/plain": [
              "6"
            ]
          },
          "metadata": {
            "tags": []
          },
          "execution_count": 21
        }
      ]
    },
    {
      "cell_type": "markdown",
      "metadata": {
        "id": "KdLXZftIaG60"
      },
      "source": [
        "2 - Faça um Programa que peça a temperatura em graus Celsius, transforme e mostre em graus Fahrenheit. \\\n",
        "*Dica: procure a fórmula para essa conversão na internet*"
      ]
    },
    {
      "cell_type": "code",
      "metadata": {
        "id": "MNINJ32eU45M"
      },
      "source": [
        "def calcula_temp():\n",
        "  temp_celsius = input(\"Qual a temperatura em graus Celsius(utilize pontos, ex.: 34.5?)\")\n",
        "  temp_fht = float(temp_celsius)*1.8+32\n",
        "  return f\"Olá a temperatura em graus Fahrenheit é {temp_fht}\""
      ],
      "execution_count": null,
      "outputs": []
    },
    {
      "cell_type": "code",
      "metadata": {
        "colab": {
          "base_uri": "https://localhost:8080/",
          "height": 54
        },
        "id": "n3oPM3x7t2PI",
        "outputId": "45c34599-666a-4d67-9510-477f021169a1"
      },
      "source": [
        "calcula_temp()"
      ],
      "execution_count": null,
      "outputs": [
        {
          "output_type": "stream",
          "text": [
            "Qual a temperatura em graus Celsius(utilize pontos, ex.: 34.5?)23.8\n"
          ],
          "name": "stdout"
        },
        {
          "output_type": "execute_result",
          "data": {
            "application/vnd.google.colaboratory.intrinsic+json": {
              "type": "string"
            },
            "text/plain": [
              "'Olá a temperatura em graus Fahrenheit é 74.84'"
            ]
          },
          "metadata": {
            "tags": []
          },
          "execution_count": 32
        }
      ]
    },
    {
      "cell_type": "markdown",
      "metadata": {
        "id": "4OETBVgmaGzX"
      },
      "source": [
        "3 - Faça um Programa que peça um número inteiro e determine se ele é par ou impar. Dica: utilize o operador módulo (resto da divisão)."
      ]
    },
    {
      "cell_type": "code",
      "metadata": {
        "id": "uUzCZ5Rz8FbY"
      },
      "source": [
        "def par_impar():\n",
        "  numero = input(\"Informe um número inteiro!\")\n",
        "  validacao = round(int(numero)%2,1)\n",
        "  if (validacao) == 0:\n",
        "    print(\"Este numero é par!\")\n",
        "  else:\n",
        "    print(\"Este número é impar\")"
      ],
      "execution_count": null,
      "outputs": []
    },
    {
      "cell_type": "code",
      "metadata": {
        "colab": {
          "base_uri": "https://localhost:8080/"
        },
        "id": "y65h3KjI8KiA",
        "outputId": "58f6e3ae-cbe3-421f-c424-81063a1f82a1"
      },
      "source": [
        "par_impar()"
      ],
      "execution_count": null,
      "outputs": [
        {
          "output_type": "stream",
          "text": [
            "Informe um número inteiro!6\n",
            "Este numero é par!\n"
          ],
          "name": "stdout"
        }
      ]
    },
    {
      "cell_type": "code",
      "metadata": {
        "colab": {
          "base_uri": "https://localhost:8080/"
        },
        "id": "xDBJWaJu8XqE",
        "outputId": "8c883a27-8792-4c79-be1c-03a3b416d99b"
      },
      "source": [
        "par_impar()"
      ],
      "execution_count": null,
      "outputs": [
        {
          "output_type": "stream",
          "text": [
            "Informe um número inteiro!5\n",
            "Este número é impar\n"
          ],
          "name": "stdout"
        }
      ]
    },
    {
      "cell_type": "markdown",
      "metadata": {
        "id": "7zPJ8sgPaGw0"
      },
      "source": [
        "4 - Faça um programa que peça o tamanho de um arquivo para download (em MB) e a velocidade de um link de Internet (em Mbps), calcule e informe o tempo aproximado de download do arquivo usando este link (em minutos)."
      ]
    },
    {
      "cell_type": "code",
      "metadata": {
        "id": "l4qtSxU7XquB"
      },
      "source": [
        "def calcula_download():\n",
        "  file_size = input(\"Qual o tamanho do arquivo (em MB) que deseja fazer download?(Utilize ponto para expressar casas decimais. Por exemplo: 3.5)\")\n",
        "  net_speed = input(\"Qual a velocidade da conexão em Mbps?(Utilize ponto para expressar casas decimais. Por exemplo: 3.5)\")\n",
        "  download_time = float(file_size)/float(net_speed)\n",
        "  time_conversion = round(float(download_time)/60,2)\n",
        "  return f\"O download estará completo em {time_conversion} minutos\""
      ],
      "execution_count": null,
      "outputs": []
    },
    {
      "cell_type": "code",
      "metadata": {
        "colab": {
          "base_uri": "https://localhost:8080/",
          "height": 71
        },
        "id": "UAAz8g3W53Jl",
        "outputId": "72ca3e61-a1fe-470d-de0f-16363e0fdea4"
      },
      "source": [
        "calcula_download()"
      ],
      "execution_count": null,
      "outputs": [
        {
          "output_type": "stream",
          "text": [
            "Qual o tamanho do arquivo (em MB) que deseja fazer download?(Utilize ponto para expressar casas decimais. Por exemplo: 3.5)560\n",
            "Qual a velocidade da conexão em Mbps?(Utilize ponto para expressar casas decimais. Por exemplo: 3.5)13.8\n"
          ],
          "name": "stdout"
        },
        {
          "output_type": "execute_result",
          "data": {
            "application/vnd.google.colaboratory.intrinsic+json": {
              "type": "string"
            },
            "text/plain": [
              "'O download estará completo em 0.68 minutos'"
            ]
          },
          "metadata": {
            "tags": []
          },
          "execution_count": 107
        }
      ]
    },
    {
      "cell_type": "code",
      "metadata": {
        "colab": {
          "base_uri": "https://localhost:8080/",
          "height": 71
        },
        "id": "VpvnALSV65mK",
        "outputId": "aeec7da7-c774-49e7-81df-c62b0db42e6d"
      },
      "source": [
        "calcula_download()"
      ],
      "execution_count": null,
      "outputs": [
        {
          "output_type": "stream",
          "text": [
            "Qual o tamanho do arquivo (em MB) que deseja fazer download?(Utilize ponto para expressar casas decimais. Por exemplo: 3.5)233\n",
            "Qual a velocidade da conexão em Mbps?(Utilize ponto para expressar casas decimais. Por exemplo: 3.5)1.97\n"
          ],
          "name": "stdout"
        },
        {
          "output_type": "execute_result",
          "data": {
            "application/vnd.google.colaboratory.intrinsic+json": {
              "type": "string"
            },
            "text/plain": [
              "'O download estará completo em 1.97 minutos'"
            ]
          },
          "metadata": {
            "tags": []
          },
          "execution_count": 108
        }
      ]
    },
    {
      "cell_type": "code",
      "metadata": {
        "colab": {
          "base_uri": "https://localhost:8080/",
          "height": 71
        },
        "id": "GadSCtXP7ax7",
        "outputId": "cfa06d56-5411-447c-f50f-f728699e9ccb"
      },
      "source": [
        "calcula_download()"
      ],
      "execution_count": null,
      "outputs": [
        {
          "output_type": "stream",
          "text": [
            "Qual o tamanho do arquivo (em MB) que deseja fazer download?(Utilize ponto para expressar casas decimais. Por exemplo: 3.5)23\n",
            "Qual a velocidade da conexão em Mbps?(Utilize ponto para expressar casas decimais. Por exemplo: 3.5)1.2\n"
          ],
          "name": "stdout"
        },
        {
          "output_type": "execute_result",
          "data": {
            "application/vnd.google.colaboratory.intrinsic+json": {
              "type": "string"
            },
            "text/plain": [
              "'O download estará completo em 0.32 minutos'"
            ]
          },
          "metadata": {
            "tags": []
          },
          "execution_count": 109
        }
      ]
    },
    {
      "cell_type": "markdown",
      "metadata": {
        "id": "0tkhm6EUaG1u"
      },
      "source": [
        "5 - Faça um programa para a leitura de duas notas parciais de um aluno. O programa deve calcular a média alcançada por aluno e apresentar:\n",
        "- A mensagem \"Aprovado\", se a média alcançada for maior ou igual a sete;\n",
        "- A mensagem \"Reprovado\", se a média for menor do que sete;\n",
        "- A mensagem \"Aprovado com Distinção\", se a média for igual a dez."
      ]
    },
    {
      "cell_type": "code",
      "metadata": {
        "id": "o15GOU2_52Ka"
      },
      "source": [
        "def notas():\n",
        "  nota_1 = input(\"Qual a nota parcial 1 (Utilize ponto para expressar casas decimais. Por exemplo: 3.5)?\")\n",
        "  nota_2 = input(\"Qual a nota parcial 2 (Utilize ponto para expressar casas decimais. Por exemplo: 3.5)?\")\n",
        "  calcula_media = (float(nota_1)+float(nota_2))/2\n",
        "  if (calcula_media) < 7:\n",
        "    print(\"Reprovado\")\n",
        "  if (calcula_media) >= 7 and (calcula_media) < 10:\n",
        "    print(\"Aprovado\")\n",
        "  if (calcula_media) == 10:\n",
        "    print(\"Aprovado com Distinção\")"
      ],
      "execution_count": null,
      "outputs": []
    },
    {
      "cell_type": "code",
      "metadata": {
        "id": "990mQ6UhdwKl",
        "colab": {
          "base_uri": "https://localhost:8080/"
        },
        "outputId": "bfa4754a-74d3-45ad-a0c1-049b5aeac2b6"
      },
      "source": [
        "notas()"
      ],
      "execution_count": null,
      "outputs": [
        {
          "output_type": "stream",
          "text": [
            "Qual a nota parcial 1 (Utilize ponto para expressar casas decimais. Por exemplo: 3.5)?10\n",
            "Qual a nota parcial 2 (Utilize ponto para expressar casas decimais. Por exemplo: 3.5)?10\n",
            "Aprovado com Distinção\n"
          ],
          "name": "stdout"
        }
      ]
    },
    {
      "cell_type": "code",
      "metadata": {
        "colab": {
          "base_uri": "https://localhost:8080/"
        },
        "id": "e0ugQFeqCL_1",
        "outputId": "1fa2d353-df64-45dc-b36e-587c13c6c5cc"
      },
      "source": [
        "notas()"
      ],
      "execution_count": null,
      "outputs": [
        {
          "output_type": "stream",
          "text": [
            "Qual a nota parcial 1 (Utilize ponto para expressar casas decimais. Por exemplo: 3.5)?8.6\n",
            "Qual a nota parcial 2 (Utilize ponto para expressar casas decimais. Por exemplo: 3.5)?7.9\n",
            "Aprovado\n"
          ],
          "name": "stdout"
        }
      ]
    },
    {
      "cell_type": "code",
      "metadata": {
        "colab": {
          "base_uri": "https://localhost:8080/"
        },
        "id": "WAQjCcvoCS63",
        "outputId": "9bb6502b-cddc-4130-d7b2-31fbd3f7ea7c"
      },
      "source": [
        "notas()"
      ],
      "execution_count": null,
      "outputs": [
        {
          "output_type": "stream",
          "text": [
            "Qual a nota parcial 1 (Utilize ponto para expressar casas decimais. Por exemplo: 3.5)?2.3\n",
            "Qual a nota parcial 2 (Utilize ponto para expressar casas decimais. Por exemplo: 3.5)?4\n",
            "Reprovado\n"
          ],
          "name": "stdout"
        }
      ]
    },
    {
      "cell_type": "markdown",
      "metadata": {
        "id": "Lm1tOKThnU42"
      },
      "source": [
        "Exercícios adaptados de Python Brasil"
      ]
    }
  ]
}